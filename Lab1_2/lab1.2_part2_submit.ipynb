{
 "cells": [
  {
   "cell_type": "markdown",
   "metadata": {},
   "source": [
    "# lab 1.2 Part 2"
   ]
  },
  {
   "cell_type": "code",
   "execution_count": 5,
   "metadata": {},
   "outputs": [
    {
     "ename": "ModuleNotFoundError",
     "evalue": "No module named 'psycopg2'",
     "output_type": "error",
     "traceback": [
      "\u001b[1;31m---------------------------------------------------------------------------\u001b[0m",
      "\u001b[1;31mModuleNotFoundError\u001b[0m                       Traceback (most recent call last)",
      "\u001b[1;32m<ipython-input-5-620a0cbe9ab0>\u001b[0m in \u001b[0;36m<module>\u001b[1;34m\u001b[0m\n\u001b[0;32m      1\u001b[0m \u001b[1;32mimport\u001b[0m \u001b[0marcpy\u001b[0m\u001b[1;33m\u001b[0m\u001b[1;33m\u001b[0m\u001b[0m\n\u001b[1;32m----> 2\u001b[1;33m \u001b[1;32mimport\u001b[0m \u001b[0mpsycopg2\u001b[0m\u001b[1;33m\u001b[0m\u001b[1;33m\u001b[0m\u001b[0m\n\u001b[0m\u001b[0;32m      3\u001b[0m \u001b[1;31m#from flask import Flask, jsonify\u001b[0m\u001b[1;33m\u001b[0m\u001b[1;33m\u001b[0m\u001b[0m\n\u001b[0;32m      4\u001b[0m \u001b[1;31m#from psycopg2 import sql\u001b[0m\u001b[1;33m\u001b[0m\u001b[1;33m\u001b[0m\u001b[0m\n\u001b[0;32m      5\u001b[0m \u001b[1;31m#from psycopg2.extras import RealDictCursor\u001b[0m\u001b[1;33m\u001b[0m\u001b[1;33m\u001b[0m\u001b[0m\n",
      "\u001b[1;31mModuleNotFoundError\u001b[0m: No module named 'psycopg2'"
     ]
    }
   ],
   "source": [
    "import arcpy\n",
    "import psycopg2\n",
    "from psycopg2 import sql\n",
    "from psycopg2.extras import RealDictCursor"
   ]
  },
  {
   "cell_type": "code",
   "execution_count": 3,
   "metadata": {},
   "outputs": [],
   "source": [
    "pointArray = arcpy.Array([arcpy.Point(12,16),\n",
    "                          arcpy.Point(51,2),\n",
    "                          arcpy.Point(23,32),\n",
    "                          arcpy.Point(7,4)])\n",
    "\n",
    "polygon = arcpy.Polygon(pointArray)\n",
    "polygon_wkt = polygon.WKT"
   ]
  },
  {
   "cell_type": "code",
   "execution_count": 4,
   "metadata": {},
   "outputs": [],
   "source": [
    "connection = psycopg2.connect(host = '34.27.240.213',\n",
    "                             database = 'lab0',\n",
    "                             user = 'postgres',\n",
    "                             password = 'Homework13'\n",
    "                             )\n",
    "\n",
    "cursor = connection.cursor()\n",
    "\n",
    "# Define the SQL command to insert the polygon into the database\n",
    "sql = \"INSERT INTO geom_table (columnLocation) VALUES (ST_GeomFromText('{}', 4326))\".format(polygon_wkt)\n",
    "\n",
    "# Execute the SQL command\n",
    "cursor.execute(sql) # do some sql commands\n",
    "\n",
    "# Commit the changes to the database\n",
    "connection.commit()\n",
    "\n",
    "# Close the cursor\n",
    "cursor.close()\n",
    "\n",
    "# Close the connection\n",
    "connection.close()"
   ]
  },
  {
   "cell_type": "code",
   "execution_count": null,
   "metadata": {},
   "outputs": [],
   "source": []
  },
  {
   "cell_type": "code",
   "execution_count": null,
   "metadata": {},
   "outputs": [],
   "source": []
  },
  {
   "cell_type": "code",
   "execution_count": 13,
   "metadata": {},
   "outputs": [
    {
     "ename": "PermissionError",
     "evalue": "[Errno 13] Permission denied: 'C:/Users/swimb/Documents/UMN/spring2023/Arc2'",
     "output_type": "error",
     "traceback": [
      "\u001b[0;31m---------------------------------------------------------------------------\u001b[0m\n\u001b[0;31mPermissionError\u001b[0m                           Traceback (most recent call last)",
      "In  \u001b[0;34m[13]\u001b[0m:\nLine \u001b[0;34m8\u001b[0m:     \u001b[34mwith\u001b[39;49;00m \u001b[36mopen\u001b[39;49;00m(\u001b[33m\"\u001b[39;49;00m\u001b[33mC:/Users/swimb/Documents/UMN/spring2023/Arc2\u001b[39;49;00m\u001b[33m\"\u001b[39;49;00m, \u001b[33m\"\u001b[39;49;00m\u001b[33mw\u001b[39;49;00m\u001b[33m\"\u001b[39;49;00m) \u001b[34mas\u001b[39;49;00m f:\n",
      "\u001b[0;31mPermissionError\u001b[0m: [Errno 13] Permission denied: 'C:/Users/swimb/Documents/UMN/spring2023/Arc2'\n\u001b[0;31m---------------------------------------------------------------------------\u001b[0m"
     ]
    }
   ],
   "source": [
    "import requests\n",
    "\n",
    "url = \"http://34.83.204.105:5000/get_polygon\"\n",
    "response = requests.get(url)\n",
    "\n",
    "if response.status_code == 200:\n",
    "    geojson = response.json()\n",
    "    with open(\"C:/Users/swimb/Desktop/geojson\", \"w\") as f:\n",
    "        f.write(str(geojson))\n",
    "        print(\"GeoJSON file saved to C:/Users/swimb/Desktop/geojson\")\n",
    "else:\n",
    "    print(\"Failed to retrieve geojson data from the URL.\")\n"
   ]
  },
  {
   "cell_type": "code",
   "execution_count": null,
   "metadata": {},
   "outputs": [],
   "source": [
    "import json\n",
    "\n",
    "# First JSON\n",
    "json_string_1 = '{\"geom_table\":\"(,01060000000200000001030000000100000004000000000000001000284000000000080030400000000020001C4000000000200010400000000008152B4000000000D0E42E4000000000100028400000000008003040010300000001000000040000000000000008152B4000000000D0E42E4000000000048049400000000040000040000000000800374000000000040040400000000008152B4000000000D0E42E40)\",\"geometry\":{\"coordinates\":[[[[12.00012207,16.00012207],[7.00012207,4.00012207],[13.54107666,15.446899414],[12.00012207,16.00012207]]],[[[13.54107666,15.446899414],[51.00012207,2.00012207],[23.00012207,32.00012207],[13.54107666,15.446899414]]]],\"type\":\"MultiPolygon\"}}'\n",
    "\n",
    "# Load the JSON string as a Python object\n",
    "json_obj_1 = json.loads(json_string_1)\n",
    "\n",
    "# Convert the first JSON object to the second JSON object\n",
    "json_obj_2 = {\n",
    "    \"type\": \"FeatureCollection\",\n",
    "    \"features\": [\n",
    "        {\n",
    "            \"type\": \"Feature\",\n",
    "            \"geometry\": json_obj_1['geometry'],\n",
    "            \"properties\": {\n",
    "                \"geom_table\": json_obj_1['geom_table']\n",
    "            }\n",
    "        }\n",
    "    ]\n",
    "}\n",
    "\n",
    "# Convert the Python object to a JSON string\n",
    "json_string_2 = json.dumps(json_obj_2)\n",
    "\n",
    "# Print the resulting JSON string\n",
    "print(json_string_2)\n",
    "\n",
    "# Save the dictionary as a JSON file\n",
    "with open('C:/Users/swimb/Desktop/geojson/esri_json.json', 'w') as json_file:\n",
    "    json.dump(json_obj_2, json_file)"
   ]
  },
  {
   "cell_type": "code",
   "execution_count": null,
   "metadata": {},
   "outputs": [],
   "source": [
    "from arcgis.gis import GIS\n",
    "from arcgis.features import FeatureLayerCollection\n",
    "\n",
    "# Connect to your ArcGIS Online organization\n",
    "gis = GIS(\"https://www.arcgis.com\", \"swimbott13\", \"....\")\n",
    "\n",
    "# Upload the GeoJSON file as a new item\n",
    "item = gis.content.add({'type': 'Shapefile'}, 'C:/Users/swimb/Desktop/geojson/final_esri_json.shp')\n",
    "\n",
    "# Publish the new item as a feature layer\n",
    "feature_layer_item = item.publish()\n",
    "\n",
    "# Get the feature layer URL and print it\n",
    "feature_layer_url = feature_layer_item.url\n",
    "print(feature_layer_url)"
   ]
  }
 ],
 "metadata": {
  "kernelspec": {
   "display_name": "Python 3",
   "language": "python",
   "name": "python3"
  },
  "language_info": {
   "codemirror_mode": {
    "name": "ipython",
    "version": 3
   },
   "file_extension": ".py",
   "mimetype": "text/x-python",
   "name": "python",
   "nbconvert_exporter": "python",
   "pygments_lexer": "ipython3",
   "version": "3.9.11"
  },
  "vscode": {
   "interpreter": {
    "hash": "ce21b655b4d6c9e397d5ad93d5666c623f49909f6d0cc2f72076dafcf1b3ecfb"
   }
  }
 },
 "nbformat": 4,
 "nbformat_minor": 2
}
