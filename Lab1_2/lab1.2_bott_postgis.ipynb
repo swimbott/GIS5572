{
 "cells": [
  {
   "cell_type": "markdown",
   "id": "a8c420c0",
   "metadata": {},
   "source": [
    "# Lab 1.2 postgis\n"
   ]
  },
  {
   "cell_type": "markdown",
   "id": "4627c0ad",
   "metadata": {},
   "source": [
    "## Create a feature class"
   ]
  },
  {
   "cell_type": "code",
   "execution_count": null,
   "id": "10a2450c",
   "metadata": {},
   "outputs": [],
   "source": [
    "CREATE TABLE postgis_table (id integer,name text);\n"
   ]
  },
  {
   "cell_type": "markdown",
   "id": "5dc25736",
   "metadata": {},
   "source": [
    "## Add points to a feature class\n"
   ]
  },
  {
   "cell_type": "code",
   "execution_count": null,
   "id": "a9acd07f",
   "metadata": {},
   "outputs": [],
   "source": [
    "CREATE TABLE postgis_stadiums (name VARCHAR(20), id integer, geom geometry(Point,4326));"
   ]
  },
  {
   "cell_type": "markdown",
   "id": "cf63a5a3",
   "metadata": {},
   "source": [
    "## Add line to a feature class\n"
   ]
  },
  {
   "cell_type": "code",
   "execution_count": null,
   "id": "4c718750",
   "metadata": {},
   "outputs": [],
   "source": [
    "CREATE TABLE postgis_stadium_lines (name VARCHAR(20),geom GEOMETRY(LINESTRING, 4326));\n",
    "\n",
    "INSERT INTO postgis_stadium_lines (name, geom) VALUES \n",
    "    ('fiserv_lambeau', ST_GeomFromText('LINESTRING(-87.917923 43.045231, -88.0573 44.5008)', 4326));"
   ]
  },
  {
   "cell_type": "markdown",
   "id": "19d29fff",
   "metadata": {},
   "source": [
    "## Add polygons to a feature class\n"
   ]
  },
  {
   "cell_type": "code",
   "execution_count": null,
   "id": "2e472f69",
   "metadata": {},
   "outputs": [],
   "source": [
    "CREATE TABLE postgis_stadium_polys (id serial primary key,name varchar(20),geom geometry(Polygon));\n",
    "\n",
    "INSERT INTO postgis_stadium_polys (name, geom) VALUES \n",
    "  ('stadium Polygon', ST_GeomFromText('POLYGON((-87.917923 43.045231, -88.0573 44.5008, -89.4077 43.0687, -87.9616 43.0348, -87.917923 43.045231))', 4326));"
   ]
  },
  {
   "cell_type": "markdown",
   "id": "0e4dce1e",
   "metadata": {},
   "source": [
    "## View each row in an attribute table for a feature class\n"
   ]
  },
  {
   "cell_type": "code",
   "execution_count": null,
   "id": "56dd8e5d",
   "metadata": {},
   "outputs": [],
   "source": [
    "SELECT * FROM postgis_stadium_polys;"
   ]
  },
  {
   "cell_type": "markdown",
   "id": "938043f8",
   "metadata": {},
   "source": [
    "## View each geometry object in a feature class\n"
   ]
  },
  {
   "cell_type": "code",
   "execution_count": null,
   "id": "f453e5f2",
   "metadata": {},
   "outputs": [],
   "source": [
    "SELECT * FROM postgis_stadium_polys;\n",
    "\n",
    "# then click on the map icon where the data is being shown to see the geometry"
   ]
  },
  {
   "cell_type": "markdown",
   "id": "1abd2334",
   "metadata": {},
   "source": [
    "## Summarize the contents of a feature class\n"
   ]
  },
  {
   "cell_type": "code",
   "execution_count": null,
   "id": "a20e73db",
   "metadata": {},
   "outputs": [],
   "source": [
    "SELECT COUNT(*), COUNT(name) FROM postgis_stadium_polys;\n",
    "# looking at the count of the names in my feature class"
   ]
  },
  {
   "cell_type": "markdown",
   "id": "d098b233",
   "metadata": {},
   "source": [
    "## Export to shapefile\n"
   ]
  },
  {
   "cell_type": "code",
   "execution_count": null,
   "id": "fae9138e",
   "metadata": {},
   "outputs": [],
   "source": [
    "# in a command prompt # run: pgsql2shp -f output_shapefile.shp -h database_host -u bott0137 lab0 postgis_stadium_polys ->   # postgres\n",
    "# enter your password"
   ]
  },
  {
   "cell_type": "markdown",
   "id": "a5476605",
   "metadata": {},
   "source": [
    "## Export to geodatabase\n"
   ]
  },
  {
   "cell_type": "code",
   "execution_count": null,
   "id": "6d2a8598",
   "metadata": {},
   "outputs": [],
   "source": [
    "# in a command prompt\n",
    "# in a command prompt -> # run: ogr2ogr -f \"FileGDB\" geodatabase.gdb PG:\"host=database_host user=bott0137 dbname=lab0 password=postgres\" -nln postgis_stadium_polys -nlt POLYGON input_table_name\n"
   ]
  },
  {
   "cell_type": "code",
   "execution_count": null,
   "id": "c8f0f2f7",
   "metadata": {},
   "outputs": [],
   "source": []
  }
 ],
 "metadata": {
  "kernelspec": {
   "display_name": "Python 3 (ipykernel)",
   "language": "python",
   "name": "python3"
  },
  "language_info": {
   "codemirror_mode": {
    "name": "ipython",
    "version": 3
   },
   "file_extension": ".py",
   "mimetype": "text/x-python",
   "name": "python",
   "nbconvert_exporter": "python",
   "pygments_lexer": "ipython3",
   "version": "3.9.7"
  }
 },
 "nbformat": 4,
 "nbformat_minor": 5
}
