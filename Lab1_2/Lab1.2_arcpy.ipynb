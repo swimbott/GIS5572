{
 "cells": [
  {
   "cell_type": "markdown",
   "metadata": {},
   "source": [
    "# Lab 1.2 Arcpy Instruction Set"
   ]
  },
  {
   "cell_type": "markdown",
   "metadata": {},
   "source": [
    "## Create a feature class"
   ]
  },
  {
   "cell_type": "code",
   "execution_count": 3,
   "metadata": {},
   "outputs": [],
   "source": [
    "import arcpy\n",
    "import fiona\n",
    "import shapely\n",
    "import psycopg2"
   ]
  },
  {
   "cell_type": "code",
   "execution_count": 1,
   "metadata": {},
   "outputs": [
    {
     "data": {
      "text/html": [
       "<div class='gpresult'><h2>Messages</h2><div id='messages' data-messages='[\"Start Time: Tuesday, February 14, 2023 9:21:48 PM\",\"Succeeded at Tuesday, February 14, 2023 9:21:48 PM (Elapsed Time: 0.13 seconds)\"]' data-show='true'><div id = 'default' /></div></div>"
      ],
      "text/plain": [
       "<Result 'C:\\\\Users\\\\swimb\\\\Documents\\\\UMN\\\\spring2023\\\\Arc2\\\\lab1.2\\\\empty.shp'>"
      ]
     },
     "execution_count": 1,
     "metadata": {},
     "output_type": "execute_result"
    }
   ],
   "source": [
    "import arcpy\n",
    "\n",
    "from arcgis.gis import GIS\n",
    "\n",
    "# Set the workspace for the output feature class\n",
    "arcpy.env.workspace = r\"C:\\Users\\swimb\\Documents\\UMN\\spring2023\\Arc2\\lab1.2\"\n",
    "\n",
    "sr = arcpy.SpatialReference(4326)\n",
    "\n",
    "# Create the feature class\n",
    "arcpy.management.CreateFeatureclass(arcpy.env.workspace,'empty')\n"
   ]
  },
  {
   "cell_type": "markdown",
   "metadata": {},
   "source": [
    "## Add points to a feature class"
   ]
  },
  {
   "cell_type": "code",
   "execution_count": 4,
   "metadata": {},
   "outputs": [],
   "source": [
    "# Set the spatial reference\n",
    "sr = arcpy.SpatialReference(4326)\n",
    "\n",
    "out_path = r\"C:\\Users\\swimb\\Documents\\UMN\\spring2023\\Arc2\\lab1.2\"\n",
    "\n",
    "# Create the feature class\n",
    "arcpy.CreateFeatureclass_management(out_path, \"stadiums\", \"POINT\", spatial_reference=sr)\n",
    "\n",
    "# Add fields to the feature class\n",
    "arcpy.AddField_management(\"stadiums\", \"ID\", \"LONG\")\n",
    "arcpy.AddField_management(\"stadiums\", \"Name\", \"TEXT\", field_length=50)\n",
    "\n",
    "# Open an insert cursor\n",
    "fields = [\"SHAPE@\", \"ID\", \"Name\"]\n",
    "cursor = arcpy.da.InsertCursor(\"stadiums\", fields)\n",
    "\n",
    "# Add two points to the feature class\n",
    "point1 = arcpy.Point(43.045231, -87.917923)\n",
    "row1 = (point1, 1, \"Point 1\")\n",
    "cursor.insertRow(row1)\n",
    "\n",
    "# Clean up\n",
    "del cursor\n"
   ]
  },
  {
   "cell_type": "markdown",
   "metadata": {},
   "source": [
    "## Add line to a feature class\n"
   ]
  },
  {
   "cell_type": "code",
   "execution_count": 21,
   "metadata": {},
   "outputs": [],
   "source": [
    "# Define the feature class name and cursor fields\n",
    "fc_name = \"routeStadiums\"\n",
    "out_path = r\"C:\\Users\\swimb\\Documents\\UMN\\spring2023\\Arc2\\lab1.2\"\n",
    "\n",
    "# Create the feature class\n",
    "arcpy.CreateFeatureclass_management(out_path, fc_name, \"POLYLINE\", spatial_reference=sr)\n",
    "\n",
    "# Add fields to the feature class\n",
    "arcpy.AddField_management(fc_name, \"ID\", \"LONG\")\n",
    "arcpy.AddField_management(fc_name, \"Name\", \"TEXT\", field_length=50)\n",
    "\n",
    "# Open an insert cursor\n",
    "fields = [\"SHAPE@\", \"ID\", \"Name\"]\n",
    "cursor = arcpy.da.InsertCursor(fc_name, fields)\n",
    "    \n",
    "# Add a line to the feature class\n",
    "array = arcpy.Array([arcpy.Point(43.045231, -87.917923), arcpy.Point(44.5008, -88.0573)])\n",
    "polyline = arcpy.Polyline(array)\n",
    "row = (polyline, 1, \"Line 1\")\n",
    "cursor.insertRow(row)\n",
    "    \n",
    "# Clean up\n",
    "del cursor"
   ]
  },
  {
   "cell_type": "markdown",
   "metadata": {},
   "source": [
    "## Add polygons to a feature class\n"
   ]
  },
  {
   "cell_type": "code",
   "execution_count": 24,
   "metadata": {},
   "outputs": [],
   "source": [
    "# Define the feature class name and cursor fields\n",
    "fc_name = \"polyStadiums\"\n",
    "out_path = r\"C:\\Users\\swimb\\Documents\\UMN\\spring2023\\Arc2\\lab1.2\"\n",
    "\n",
    "# Create the feature class\n",
    "arcpy.CreateFeatureclass_management(out_path, fc_name, \"POLYGON\", spatial_reference=sr)\n",
    "\n",
    "# Define the cursor fields\n",
    "fields = [\"SHAPE@\"]\n",
    "\n",
    "# Create an insert cursor\n",
    "with arcpy.da.InsertCursor(fc_name, fields) as cursor:\n",
    "    # Define the polygon vertices\n",
    "    polygon = arcpy.Polygon(arcpy.Array([arcpy.Point(43.045231, -87.917923), arcpy.Point(44.5008, -88.0573), arcpy.Point(43.0687, -89.4077), arcpy.Point(43.0348837277, -87.9616536158)]))\n",
    "    \n",
    "    # Insert the polygon into the feature class\n",
    "    cursor.insertRow([polygon])\n",
    "\n",
    "# Clean up\n",
    "del cursor"
   ]
  },
  {
   "cell_type": "markdown",
   "metadata": {},
   "source": [
    "## View each row in an attribute table for a feature class\n"
   ]
  },
  {
   "cell_type": "code",
   "execution_count": 25,
   "metadata": {},
   "outputs": [
    {
     "name": "stdout",
     "output_type": "stream",
     "text": [
      "(0, (43.534618115390366, -88.46073719520321), 0)\n"
     ]
    }
   ],
   "source": [
    "# Define the feature class name and cursor fields\n",
    "fc_name = \"polyStadiums\"\n",
    "fields = [\"*\"] # use \"*\" to select all fields in the feature class\n",
    "\n",
    "# Create a search cursor\n",
    "with arcpy.da.SearchCursor(fc_name, fields) as cursor:\n",
    "    # Iterate through each row in the attribute table\n",
    "    for row in cursor:\n",
    "        print(row)\n"
   ]
  },
  {
   "cell_type": "markdown",
   "metadata": {},
   "source": [
    "## View each geometry object in a feature class\n"
   ]
  },
  {
   "cell_type": "code",
   "execution_count": 26,
   "metadata": {},
   "outputs": [
    {
     "name": "stdout",
     "output_type": "stream",
     "text": [
      "<geoprocessing describe geometry object object at 0x000001E4A4E407B0>\n"
     ]
    }
   ],
   "source": [
    "# Define the feature class name and cursor fields\n",
    "fc_name = \"polyStadiums\"\n",
    "fields = [\"SHAPE@\"] # use \"SHAPE@\" to select the geometry object\n",
    "\n",
    "# Create a search cursor\n",
    "with arcpy.da.SearchCursor(fc_name, fields) as cursor:\n",
    "    # Iterate through each row in the attribute table\n",
    "    for row in cursor:\n",
    "        print(row[0])\n"
   ]
  },
  {
   "cell_type": "markdown",
   "metadata": {},
   "source": [
    "## Summarize the contents of a feature class\n"
   ]
  },
  {
   "cell_type": "code",
   "execution_count": 28,
   "metadata": {},
   "outputs": [
    {
     "name": "stdout",
     "output_type": "stream",
     "text": [
      "Number of features: 1\n",
      "Extent: 43.034912109375 -89.40771484375 44.5009155273438 -87.9179077148438 NaN NaN NaN NaN\n"
     ]
    }
   ],
   "source": [
    "# Define the feature class name\n",
    "fc_name = \"polyStadiums\"\n",
    "\n",
    "# Get the count of features in the feature class\n",
    "count = arcpy.GetCount_management(fc_name)\n",
    "print(\"Number of features:\", count)\n",
    "\n",
    "# Get the extent of the feature class\n",
    "desc = arcpy.Describe(fc_name)\n",
    "extent = desc.extent\n",
    "print(\"Extent:\", extent)"
   ]
  },
  {
   "cell_type": "markdown",
   "metadata": {},
   "source": [
    "## Export to shapefile\n"
   ]
  },
  {
   "cell_type": "code",
   "execution_count": 29,
   "metadata": {},
   "outputs": [
    {
     "data": {
      "text/html": [
       "<div class='gpresult'><h2>Messages</h2><div id='messages' data-messages='[\"Start Time: Tuesday, February 14, 2023 9:48:32 PM\",\"Succeeded at Tuesday, February 14, 2023 9:48:33 PM (Elapsed Time: 0.68 seconds)\"]' data-show='true'><div id = 'default' /></div></div>"
      ],
      "text/plain": [
       "<Result 'C:\\\\Users\\\\swimb\\\\Documents\\\\UMN\\\\spring2023\\\\Arc2\\\\Lab1\\\\WIStadiums.shp'>"
      ]
     },
     "execution_count": 29,
     "metadata": {},
     "output_type": "execute_result"
    }
   ],
   "source": [
    "# Define the input feature class name and output shapefile name\n",
    "in_fc = \"polyStadiums\"\n",
    "out_shp = r\"C:\\Users\\swimb\\Documents\\UMN\\spring2023\\Arc2\\Lab1\\WIStadiums.shp\"\n",
    "\n",
    "# Use the CopyFeatures function to export to shapefile\n",
    "arcpy.CopyFeatures_management(in_fc, out_shp)\n"
   ]
  },
  {
   "cell_type": "markdown",
   "metadata": {},
   "source": [
    "## Export to geodatabase\n"
   ]
  },
  {
   "cell_type": "code",
   "execution_count": 30,
   "metadata": {},
   "outputs": [
    {
     "data": {
      "text/html": [
       "<div class='gpresult'><h2>Messages</h2><div id='messages' data-messages='[\"Start Time: Tuesday, February 14, 2023 9:49:11 PM\",\"Succeeded at Tuesday, February 14, 2023 9:49:12 PM (Elapsed Time: 0.62 seconds)\"]' data-show='true'><div id = 'default' /></div></div>"
      ],
      "text/plain": [
       "<Result 'C:\\\\Users\\\\swimb\\\\Documents\\\\UMN\\\\spring2023\\\\Design\\\\Project 1\\\\Pakistan\\\\Pakistan.gdb\\\\polygonOfStadiums'>"
      ]
     },
     "execution_count": 30,
     "metadata": {},
     "output_type": "execute_result"
    }
   ],
   "source": [
    "# Define the input feature class name and output geodatabase name\n",
    "in_fc = \"polyStadiums\"\n",
    "out_gdb = r\"C:\\Users\\swimb\\Documents\\UMN\\spring2023\\Design\\Project 1\\Pakistan\\Pakistan.gdb\"\n",
    "out_fc = \"polygonOfStadiums\"\n",
    "\n",
    "# Use the CopyFeatures function to export to geodatabase\n",
    "arcpy.CopyFeatures_management(in_fc, out_gdb + \"/\" + out_fc)\n"
   ]
  },
  {
   "cell_type": "code",
   "execution_count": null,
   "metadata": {},
   "outputs": [],
   "source": []
  }
 ],
 "metadata": {
  "kernelspec": {
   "display_name": "ArcGISPro",
   "language": "Python",
   "name": "python3"
  },
  "language_info": {
   "file_extension": ".py",
   "name": "python",
   "version": "3"
  }
 },
 "nbformat": 4,
 "nbformat_minor": 2
}
